{
  "nbformat": 4,
  "nbformat_minor": 0,
  "metadata": {
    "colab": {
      "name": "Automated Hyperparameter Optimization.ipynb",
      "provenance": [],
      "collapsed_sections": [],
      "authorship_tag": "ABX9TyOrr9Zmwb91zYTE/CvZjsyR"
    },
    "kernelspec": {
      "name": "python3",
      "display_name": "Python 3"
    }
  },
  "cells": [
    {
      "cell_type": "markdown",
      "metadata": {
        "id": "OTiYmvnsiM4S"
      },
      "source": [
        "https://github.com/WillKoehrsen/hyperparameter-optimization/blob/master/Bayesian%20Hyperparameter%20Optimization%20of%20Gradient%20Boosting%20Machine.ipynb"
      ]
    },
    {
      "cell_type": "code",
      "metadata": {
        "id": "__zzgqISgBsO"
      },
      "source": [
        "# Pandas and numpy for data manipulation\n",
        "import pandas as pd\n",
        "import numpy as np\n",
        "\n",
        "# Modeling\n",
        "import lightgbm as lgb\n",
        "\n",
        "# Evaluation of the model\n",
        "from sklearn.model_selection import KFold\n",
        "\n",
        "MAX_EVALS = 500\n",
        "N_FOLDS = 10"
      ],
      "execution_count": null,
      "outputs": []
    },
    {
      "cell_type": "code",
      "metadata": {
        "id": "z1vKaA-tgajL"
      },
      "source": [
        "# Read in data and separate into training and testing sets\n",
        "data = pd.read_csv('data/caravan-insurance-challenge.csv')\n",
        "train = data[data['ORIGIN'] == 'train']\n",
        "test = data[data['ORIGIN'] == 'test']\n",
        "\n",
        "# Extract the labels and format properly\n",
        "train_labels = np.array(train['CARAVAN'].astype(np.int32)).reshape((-1,))\n",
        "test_labels = np.array(test['CARAVAN'].astype(np.int32)).reshape((-1,))\n",
        "\n",
        "# Drop the unneeded columns\n",
        "train = train.drop(columns = ['ORIGIN', 'CARAVAN'])\n",
        "test = test.drop(columns = ['ORIGIN', 'CARAVAN'])\n",
        "\n",
        "# Convert to numpy array for splitting in cross validation\n",
        "features = np.array(train)\n",
        "test_features = np.array(test)\n",
        "labels = train_labels[:]\n",
        "\n",
        "print('Train shape: ', train.shape)\n",
        "print('Test shape: ', test.shape)\n",
        "train.head()"
      ],
      "execution_count": null,
      "outputs": []
    }
  ]
}